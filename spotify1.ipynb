{
 "cells": [
  {
   "cell_type": "code",
   "execution_count": 1,
   "metadata": {},
   "outputs": [
    {
     "name": "stdout",
     "output_type": "stream",
     "text": [
      "Couldn't find program: 'bash'\n"
     ]
    }
   ],
   "source": [
    "%%bash\n",
    "head 'mpd.v1/data/mpd.slice.4000-4999.json'"
   ]
  },
  {
   "cell_type": "code",
   "execution_count": 2,
   "metadata": {},
   "outputs": [
    {
     "name": "stderr",
     "output_type": "stream",
     "text": [
      "Using TensorFlow backend.\n"
     ]
    }
   ],
   "source": [
    "import pandas as pd\n",
    "import numpy as np\n",
    "import warnings\n",
    "warnings.filterwarnings('ignore')\n",
    "\n",
    "from keras.models import Sequential\n",
    "from keras.layers import Dense\n",
    "\n",
    "import matplotlib\n",
    "from sklearn.metrics import r2_score\n",
    "from sklearn.linear_model import LinearRegression\n",
    "from sklearn.preprocessing import StandardScaler\n",
    "from sklearn.model_selection import LeaveOneOut\n",
    "from sklearn.model_selection import KFold\n",
    "\n",
    "import re\n",
    "import requests\n",
    "%matplotlib inline\n",
    "\n",
    "import matplotlib.pyplot as plt\n",
    "\n",
    "from sklearn.model_selection import cross_val_score\n",
    "from sklearn.tree import DecisionTreeClassifier\n",
    "from sklearn.ensemble import RandomForestClassifier\n",
    "from sklearn.ensemble import AdaBoostClassifier\n",
    "from sklearn.linear_model import LogisticRegressionCV\n",
    "\n",
    "import seaborn as sns\n",
    "pd.set_option('display.width', 1500)\n",
    "pd.set_option('display.max_columns', 100)\n"
   ]
  },
  {
   "cell_type": "code",
   "execution_count": 3,
   "metadata": {},
   "outputs": [],
   "source": [
    "df= pd.read_csv(\"C:/Users/Dell/Downloads/datascience/spotifyRecommendationsystem/merged_final.csv\")"
   ]
  },
  {
   "cell_type": "code",
   "execution_count": 4,
   "metadata": {},
   "outputs": [
    {
     "data": {
      "text/html": [
       "<div>\n",
       "<style scoped>\n",
       "    .dataframe tbody tr th:only-of-type {\n",
       "        vertical-align: middle;\n",
       "    }\n",
       "\n",
       "    .dataframe tbody tr th {\n",
       "        vertical-align: top;\n",
       "    }\n",
       "\n",
       "    .dataframe thead th {\n",
       "        text-align: right;\n",
       "    }\n",
       "</style>\n",
       "<table border=\"1\" class=\"dataframe\">\n",
       "  <thead>\n",
       "    <tr style=\"text-align: right;\">\n",
       "      <th></th>\n",
       "      <th>Unnamed: 0</th>\n",
       "      <th>album_id</th>\n",
       "      <th>album_name</th>\n",
       "      <th>year_released</th>\n",
       "      <th>album_release_date</th>\n",
       "      <th>track_artist_ids</th>\n",
       "      <th>track_id</th>\n",
       "      <th>track_duration_ms</th>\n",
       "      <th>track_explicit</th>\n",
       "      <th>track_name</th>\n",
       "      <th>track_popularity</th>\n",
       "      <th>danceability</th>\n",
       "      <th>energy</th>\n",
       "      <th>key</th>\n",
       "      <th>loudness</th>\n",
       "      <th>mode</th>\n",
       "      <th>speechiness</th>\n",
       "      <th>acousticness</th>\n",
       "      <th>instrumentalness</th>\n",
       "      <th>liveness</th>\n",
       "      <th>valence</th>\n",
       "      <th>tempo</th>\n",
       "      <th>audio_features_id</th>\n",
       "      <th>artist1_id</th>\n",
       "      <th>followers</th>\n",
       "      <th>artist_popularity</th>\n",
       "      <th>artist_genre1</th>\n",
       "      <th>artist_genre2</th>\n",
       "      <th>artist_genre3</th>\n",
       "      <th>album_label</th>\n",
       "      <th>album_popularity</th>\n",
       "      <th>in_playlist</th>\n",
       "    </tr>\n",
       "  </thead>\n",
       "  <tbody>\n",
       "    <tr>\n",
       "      <th>0</th>\n",
       "      <td>3325</td>\n",
       "      <td>671JMBwDOqsTqgUQ1uV31Q</td>\n",
       "      <td>Album for the Young: Gentle Piano by Tchaikovs...</td>\n",
       "      <td>5</td>\n",
       "      <td>3/29/2014</td>\n",
       "      <td>['4tSF3kfKHwrJHGS7B4UPoK']</td>\n",
       "      <td>0deYxSSsBtn2F4Al1Sj5by</td>\n",
       "      <td>71523</td>\n",
       "      <td>False</td>\n",
       "      <td>Album for the Young, Op. 68 \"Album für die Jug...</td>\n",
       "      <td>0</td>\n",
       "      <td>0.719</td>\n",
       "      <td>0.0579</td>\n",
       "      <td>7.0</td>\n",
       "      <td>-14.153</td>\n",
       "      <td>1.0</td>\n",
       "      <td>0.3310</td>\n",
       "      <td>0.996</td>\n",
       "      <td>0.922</td>\n",
       "      <td>0.1010</td>\n",
       "      <td>0.724</td>\n",
       "      <td>74.162</td>\n",
       "      <td>0deYxSSsBtn2F4Al1Sj5by</td>\n",
       "      <td>4tSF3kfKHwrJHGS7B4UPoK</td>\n",
       "      <td>139.0</td>\n",
       "      <td>19.0</td>\n",
       "      <td>NaN</td>\n",
       "      <td>NaN</td>\n",
       "      <td>NaN</td>\n",
       "      <td>2014 Ameritz Music Ltd.</td>\n",
       "      <td>0.0</td>\n",
       "      <td>1</td>\n",
       "    </tr>\n",
       "    <tr>\n",
       "      <th>1</th>\n",
       "      <td>3300</td>\n",
       "      <td>3CyG8owv9bw92gJ3mJzobY</td>\n",
       "      <td>Asian Zen Spa</td>\n",
       "      <td>5</td>\n",
       "      <td>4/21/2014</td>\n",
       "      <td>['2owwKPwj60GOqmAPowOqmK']</td>\n",
       "      <td>3YeBvTccOklQoM4vqDzyOq</td>\n",
       "      <td>310125</td>\n",
       "      <td>False</td>\n",
       "      <td>Backroads</td>\n",
       "      <td>9</td>\n",
       "      <td>0.316</td>\n",
       "      <td>0.0161</td>\n",
       "      <td>9.0</td>\n",
       "      <td>-31.928</td>\n",
       "      <td>0.0</td>\n",
       "      <td>0.0790</td>\n",
       "      <td>0.996</td>\n",
       "      <td>0.934</td>\n",
       "      <td>0.1250</td>\n",
       "      <td>0.148</td>\n",
       "      <td>180.081</td>\n",
       "      <td>3YeBvTccOklQoM4vqDzyOq</td>\n",
       "      <td>6FarM6zyPwNuuVw7lTbMlt</td>\n",
       "      <td>270.0</td>\n",
       "      <td>23.0</td>\n",
       "      <td>NaN</td>\n",
       "      <td>NaN</td>\n",
       "      <td>NaN</td>\n",
       "      <td>Ocean And Air Records</td>\n",
       "      <td>21.0</td>\n",
       "      <td>1</td>\n",
       "    </tr>\n",
       "    <tr>\n",
       "      <th>2</th>\n",
       "      <td>2314</td>\n",
       "      <td>1maoQPAmw44bbkNOxKlwsx</td>\n",
       "      <td>Drukqs</td>\n",
       "      <td>5</td>\n",
       "      <td>10/22/2001</td>\n",
       "      <td>['6kBDZFXuLrZgHnvmPu9NsG']</td>\n",
       "      <td>2MZSXhq4XDJWu6coGoXX1V</td>\n",
       "      <td>125520</td>\n",
       "      <td>False</td>\n",
       "      <td>Avril 14th</td>\n",
       "      <td>68</td>\n",
       "      <td>0.558</td>\n",
       "      <td>0.0259</td>\n",
       "      <td>8.0</td>\n",
       "      <td>-30.016</td>\n",
       "      <td>1.0</td>\n",
       "      <td>0.0458</td>\n",
       "      <td>0.996</td>\n",
       "      <td>0.871</td>\n",
       "      <td>0.0969</td>\n",
       "      <td>0.370</td>\n",
       "      <td>157.811</td>\n",
       "      <td>2MZSXhq4XDJWu6coGoXX1V</td>\n",
       "      <td>6kBDZFXuLrZgHnvmPu9NsG</td>\n",
       "      <td>364225.0</td>\n",
       "      <td>61.0</td>\n",
       "      <td>acid techno</td>\n",
       "      <td>ambient</td>\n",
       "      <td>electronic</td>\n",
       "      <td>Warp Records</td>\n",
       "      <td>62.0</td>\n",
       "      <td>1</td>\n",
       "    </tr>\n",
       "    <tr>\n",
       "      <th>3</th>\n",
       "      <td>3338</td>\n",
       "      <td>4GFWY45h3wGQlXXQEr5Std</td>\n",
       "      <td>Happy Newage Piano Collection Vol.1</td>\n",
       "      <td>5</td>\n",
       "      <td>10/31/2013</td>\n",
       "      <td>['0BeIulKOpcvsabwlt4u8qp']</td>\n",
       "      <td>0ndWuoSddVBgoouqnN1dhI</td>\n",
       "      <td>254590</td>\n",
       "      <td>False</td>\n",
       "      <td>가질 수 없어도 행복한게 사랑이다</td>\n",
       "      <td>7</td>\n",
       "      <td>0.586</td>\n",
       "      <td>0.1410</td>\n",
       "      <td>9.0</td>\n",
       "      <td>-21.364</td>\n",
       "      <td>1.0</td>\n",
       "      <td>0.0725</td>\n",
       "      <td>0.996</td>\n",
       "      <td>0.937</td>\n",
       "      <td>0.1030</td>\n",
       "      <td>0.378</td>\n",
       "      <td>72.792</td>\n",
       "      <td>0ndWuoSddVBgoouqnN1dhI</td>\n",
       "      <td>75iUxGnPfWc4gpqs6EzxrM</td>\n",
       "      <td>1591.0</td>\n",
       "      <td>16.0</td>\n",
       "      <td>NaN</td>\n",
       "      <td>NaN</td>\n",
       "      <td>NaN</td>\n",
       "      <td>Hot Ideas</td>\n",
       "      <td>2.0</td>\n",
       "      <td>1</td>\n",
       "    </tr>\n",
       "    <tr>\n",
       "      <th>4</th>\n",
       "      <td>1652</td>\n",
       "      <td>21zVmZS6xxjGTAs6bFLUg4</td>\n",
       "      <td>Undertale - Fragments of a Heart</td>\n",
       "      <td>5</td>\n",
       "      <td>2/22/2016</td>\n",
       "      <td>['2K1Ps7vnKg2AnKsSoVqH4P']</td>\n",
       "      <td>1lnbubvX7XVgbBqHKg5C9G</td>\n",
       "      <td>88700</td>\n",
       "      <td>False</td>\n",
       "      <td>His Theme (feat. Doug Perry)</td>\n",
       "      <td>26</td>\n",
       "      <td>0.548</td>\n",
       "      <td>0.0138</td>\n",
       "      <td>3.0</td>\n",
       "      <td>-31.846</td>\n",
       "      <td>1.0</td>\n",
       "      <td>0.0355</td>\n",
       "      <td>0.996</td>\n",
       "      <td>0.850</td>\n",
       "      <td>0.1050</td>\n",
       "      <td>0.207</td>\n",
       "      <td>75.955</td>\n",
       "      <td>1lnbubvX7XVgbBqHKg5C9G</td>\n",
       "      <td>2K1Ps7vnKg2AnKsSoVqH4P</td>\n",
       "      <td>2112.0</td>\n",
       "      <td>37.0</td>\n",
       "      <td>otacore</td>\n",
       "      <td>scorecore</td>\n",
       "      <td>NaN</td>\n",
       "      <td>Various Artists</td>\n",
       "      <td>33.0</td>\n",
       "      <td>1</td>\n",
       "    </tr>\n",
       "  </tbody>\n",
       "</table>\n",
       "</div>"
      ],
      "text/plain": [
       "   Unnamed: 0                album_id                                         album_name  year_released album_release_date            track_artist_ids                track_id  track_duration_ms  track_explicit                                         track_name  track_popularity  danceability  energy  key  loudness  mode  speechiness  acousticness  instrumentalness  liveness  valence    tempo       audio_features_id              artist1_id  followers  artist_popularity artist_genre1 artist_genre2 artist_genre3              album_label  album_popularity  in_playlist\n",
       "0        3325  671JMBwDOqsTqgUQ1uV31Q  Album for the Young: Gentle Piano by Tchaikovs...              5          3/29/2014  ['4tSF3kfKHwrJHGS7B4UPoK']  0deYxSSsBtn2F4Al1Sj5by              71523           False  Album for the Young, Op. 68 \"Album für die Jug...                 0         0.719  0.0579  7.0   -14.153   1.0       0.3310         0.996             0.922    0.1010    0.724   74.162  0deYxSSsBtn2F4Al1Sj5by  4tSF3kfKHwrJHGS7B4UPoK      139.0               19.0           NaN           NaN           NaN  2014 Ameritz Music Ltd.               0.0            1\n",
       "1        3300  3CyG8owv9bw92gJ3mJzobY                                      Asian Zen Spa              5          4/21/2014  ['2owwKPwj60GOqmAPowOqmK']  3YeBvTccOklQoM4vqDzyOq             310125           False                                          Backroads                 9         0.316  0.0161  9.0   -31.928   0.0       0.0790         0.996             0.934    0.1250    0.148  180.081  3YeBvTccOklQoM4vqDzyOq  6FarM6zyPwNuuVw7lTbMlt      270.0               23.0           NaN           NaN           NaN    Ocean And Air Records              21.0            1\n",
       "2        2314  1maoQPAmw44bbkNOxKlwsx                                             Drukqs              5         10/22/2001  ['6kBDZFXuLrZgHnvmPu9NsG']  2MZSXhq4XDJWu6coGoXX1V             125520           False                                         Avril 14th                68         0.558  0.0259  8.0   -30.016   1.0       0.0458         0.996             0.871    0.0969    0.370  157.811  2MZSXhq4XDJWu6coGoXX1V  6kBDZFXuLrZgHnvmPu9NsG   364225.0               61.0   acid techno       ambient    electronic             Warp Records              62.0            1\n",
       "3        3338  4GFWY45h3wGQlXXQEr5Std                Happy Newage Piano Collection Vol.1              5         10/31/2013  ['0BeIulKOpcvsabwlt4u8qp']  0ndWuoSddVBgoouqnN1dhI             254590           False                                 가질 수 없어도 행복한게 사랑이다                 7         0.586  0.1410  9.0   -21.364   1.0       0.0725         0.996             0.937    0.1030    0.378   72.792  0ndWuoSddVBgoouqnN1dhI  75iUxGnPfWc4gpqs6EzxrM     1591.0               16.0           NaN           NaN           NaN                Hot Ideas               2.0            1\n",
       "4        1652  21zVmZS6xxjGTAs6bFLUg4                   Undertale - Fragments of a Heart              5          2/22/2016  ['2K1Ps7vnKg2AnKsSoVqH4P']  1lnbubvX7XVgbBqHKg5C9G              88700           False                       His Theme (feat. Doug Perry)                26         0.548  0.0138  3.0   -31.846   1.0       0.0355         0.996             0.850    0.1050    0.207   75.955  1lnbubvX7XVgbBqHKg5C9G  2K1Ps7vnKg2AnKsSoVqH4P     2112.0               37.0       otacore     scorecore           NaN          Various Artists              33.0            1"
      ]
     },
     "execution_count": 4,
     "metadata": {},
     "output_type": "execute_result"
    }
   ],
   "source": [
    "df.head()"
   ]
  },
  {
   "cell_type": "code",
   "execution_count": 5,
   "metadata": {},
   "outputs": [
    {
     "name": "stdout",
     "output_type": "stream",
     "text": [
      "0\n"
     ]
    }
   ],
   "source": [
    "import re\n",
    "bad_indices=[]\n",
    "lst_4_years=[]\n",
    "lst_2_slash=[]\n",
    "lst_2_hyphen=[]\n",
    "lst_year_release=[]\n",
    "for i,date in enumerate(df.album_release_date):\n",
    "    if len(date)==4:\n",
    "        lst_4_years.append(date)\n",
    "        lst_year_release.append(date)\n",
    "    elif re.findall(r\"(.){1,2}[/](.){1,2}[/](.){1,2}\",date):\n",
    "        lst_2_slash.append(date)\n",
    "        if int(date[-2:]) < 19:\n",
    "            lst_year_release.append(\"20\"+(date[-2:]))\n",
    "        else:\n",
    "            lst_year_release.append(\"19\"+(date[-2:]))\n",
    "    elif re.findall(r\"(.){4}-(.){2}\",date):\n",
    "            lst_2_hyphen.append(date)\n",
    "            lst_year_release.append(date[:4])\n",
    "            \n",
    "    else:\n",
    "        bad_indices.append((i, date))\n",
    "print(len(bad_indices))\n",
    "df[\"release_year\"]=lst_year_release\n",
    "    "
   ]
  },
  {
   "cell_type": "code",
   "execution_count": 6,
   "metadata": {},
   "outputs": [
    {
     "name": "stdout",
     "output_type": "stream",
     "text": [
      "['1939', '1942', '1945', '1947', '1948', '1949', '1951', '1952', '1953', '1954', '1955', '1956', '1957', '1958', '1959', '1960', '1961', '1962', '1963', '1964', '1965', '1966', '1967', '1968', '1969', '1970', '1971', '1972', '1973', '1974', '1975', '1976', '1977', '1978', '1979', '1980', '1981', '1982', '1983', '1984', '1985', '1986', '1987', '1988', '1989', '1990', '1991', '1992', '1993', '1994', '1995', '1996', '1997', '1998', '1999', '2000', '2001', '2002', '2003', '2004', '2005', '2006', '2007', '2008', '2009', '2010', '2011', '2012', '2013', '2014', '2015', '2016', '2017', '2018']\n"
     ]
    }
   ],
   "source": [
    "print(sorted(set(lst_year_release)))"
   ]
  },
  {
   "cell_type": "code",
   "execution_count": 7,
   "metadata": {},
   "outputs": [
    {
     "data": {
      "text/plain": [
       "(32054, 19)"
      ]
     },
     "execution_count": 7,
     "metadata": {},
     "output_type": "execute_result"
    }
   ],
   "source": [
    "# drop non-quant and garbage columns\n",
    "X_database = df.drop(['Unnamed: 0','album_id', 'album_name', 'album_release_date', 'track_artist_ids', 'track_id', 'track_name', 'audio_features_id', 'artist1_id', 'artist_genre1', 'artist_genre2', 'artist_genre3', 'album_label','year_released'], axis=1)\n",
    "X_database.shape"
   ]
  },
  {
   "cell_type": "code",
   "execution_count": 8,
   "metadata": {},
   "outputs": [
    {
     "data": {
      "text/html": [
       "<div>\n",
       "<style scoped>\n",
       "    .dataframe tbody tr th:only-of-type {\n",
       "        vertical-align: middle;\n",
       "    }\n",
       "\n",
       "    .dataframe tbody tr th {\n",
       "        vertical-align: top;\n",
       "    }\n",
       "\n",
       "    .dataframe thead th {\n",
       "        text-align: right;\n",
       "    }\n",
       "</style>\n",
       "<table border=\"1\" class=\"dataframe\">\n",
       "  <thead>\n",
       "    <tr style=\"text-align: right;\">\n",
       "      <th></th>\n",
       "      <th>track_duration_ms</th>\n",
       "      <th>track_explicit</th>\n",
       "      <th>track_popularity</th>\n",
       "      <th>danceability</th>\n",
       "      <th>energy</th>\n",
       "      <th>key</th>\n",
       "      <th>loudness</th>\n",
       "      <th>mode</th>\n",
       "      <th>speechiness</th>\n",
       "      <th>acousticness</th>\n",
       "      <th>instrumentalness</th>\n",
       "      <th>liveness</th>\n",
       "      <th>valence</th>\n",
       "      <th>tempo</th>\n",
       "      <th>followers</th>\n",
       "      <th>artist_popularity</th>\n",
       "      <th>album_popularity</th>\n",
       "      <th>in_playlist</th>\n",
       "      <th>release_year</th>\n",
       "    </tr>\n",
       "  </thead>\n",
       "  <tbody>\n",
       "    <tr>\n",
       "      <th>0</th>\n",
       "      <td>71523</td>\n",
       "      <td>False</td>\n",
       "      <td>0</td>\n",
       "      <td>0.719</td>\n",
       "      <td>0.0579</td>\n",
       "      <td>7.0</td>\n",
       "      <td>-14.153</td>\n",
       "      <td>1.0</td>\n",
       "      <td>0.3310</td>\n",
       "      <td>0.996</td>\n",
       "      <td>0.922</td>\n",
       "      <td>0.1010</td>\n",
       "      <td>0.724</td>\n",
       "      <td>74.162</td>\n",
       "      <td>139.0</td>\n",
       "      <td>19.0</td>\n",
       "      <td>0.0</td>\n",
       "      <td>1</td>\n",
       "      <td>2014</td>\n",
       "    </tr>\n",
       "    <tr>\n",
       "      <th>1</th>\n",
       "      <td>310125</td>\n",
       "      <td>False</td>\n",
       "      <td>9</td>\n",
       "      <td>0.316</td>\n",
       "      <td>0.0161</td>\n",
       "      <td>9.0</td>\n",
       "      <td>-31.928</td>\n",
       "      <td>0.0</td>\n",
       "      <td>0.0790</td>\n",
       "      <td>0.996</td>\n",
       "      <td>0.934</td>\n",
       "      <td>0.1250</td>\n",
       "      <td>0.148</td>\n",
       "      <td>180.081</td>\n",
       "      <td>270.0</td>\n",
       "      <td>23.0</td>\n",
       "      <td>21.0</td>\n",
       "      <td>1</td>\n",
       "      <td>2014</td>\n",
       "    </tr>\n",
       "    <tr>\n",
       "      <th>2</th>\n",
       "      <td>125520</td>\n",
       "      <td>False</td>\n",
       "      <td>68</td>\n",
       "      <td>0.558</td>\n",
       "      <td>0.0259</td>\n",
       "      <td>8.0</td>\n",
       "      <td>-30.016</td>\n",
       "      <td>1.0</td>\n",
       "      <td>0.0458</td>\n",
       "      <td>0.996</td>\n",
       "      <td>0.871</td>\n",
       "      <td>0.0969</td>\n",
       "      <td>0.370</td>\n",
       "      <td>157.811</td>\n",
       "      <td>364225.0</td>\n",
       "      <td>61.0</td>\n",
       "      <td>62.0</td>\n",
       "      <td>1</td>\n",
       "      <td>2001</td>\n",
       "    </tr>\n",
       "    <tr>\n",
       "      <th>3</th>\n",
       "      <td>254590</td>\n",
       "      <td>False</td>\n",
       "      <td>7</td>\n",
       "      <td>0.586</td>\n",
       "      <td>0.1410</td>\n",
       "      <td>9.0</td>\n",
       "      <td>-21.364</td>\n",
       "      <td>1.0</td>\n",
       "      <td>0.0725</td>\n",
       "      <td>0.996</td>\n",
       "      <td>0.937</td>\n",
       "      <td>0.1030</td>\n",
       "      <td>0.378</td>\n",
       "      <td>72.792</td>\n",
       "      <td>1591.0</td>\n",
       "      <td>16.0</td>\n",
       "      <td>2.0</td>\n",
       "      <td>1</td>\n",
       "      <td>2013</td>\n",
       "    </tr>\n",
       "    <tr>\n",
       "      <th>4</th>\n",
       "      <td>88700</td>\n",
       "      <td>False</td>\n",
       "      <td>26</td>\n",
       "      <td>0.548</td>\n",
       "      <td>0.0138</td>\n",
       "      <td>3.0</td>\n",
       "      <td>-31.846</td>\n",
       "      <td>1.0</td>\n",
       "      <td>0.0355</td>\n",
       "      <td>0.996</td>\n",
       "      <td>0.850</td>\n",
       "      <td>0.1050</td>\n",
       "      <td>0.207</td>\n",
       "      <td>75.955</td>\n",
       "      <td>2112.0</td>\n",
       "      <td>37.0</td>\n",
       "      <td>33.0</td>\n",
       "      <td>1</td>\n",
       "      <td>2016</td>\n",
       "    </tr>\n",
       "  </tbody>\n",
       "</table>\n",
       "</div>"
      ],
      "text/plain": [
       "   track_duration_ms  track_explicit  track_popularity  danceability  energy  key  loudness  mode  speechiness  acousticness  instrumentalness  liveness  valence    tempo  followers  artist_popularity  album_popularity  in_playlist release_year\n",
       "0              71523           False                 0         0.719  0.0579  7.0   -14.153   1.0       0.3310         0.996             0.922    0.1010    0.724   74.162      139.0               19.0               0.0            1         2014\n",
       "1             310125           False                 9         0.316  0.0161  9.0   -31.928   0.0       0.0790         0.996             0.934    0.1250    0.148  180.081      270.0               23.0              21.0            1         2014\n",
       "2             125520           False                68         0.558  0.0259  8.0   -30.016   1.0       0.0458         0.996             0.871    0.0969    0.370  157.811   364225.0               61.0              62.0            1         2001\n",
       "3             254590           False                 7         0.586  0.1410  9.0   -21.364   1.0       0.0725         0.996             0.937    0.1030    0.378   72.792     1591.0               16.0               2.0            1         2013\n",
       "4              88700           False                26         0.548  0.0138  3.0   -31.846   1.0       0.0355         0.996             0.850    0.1050    0.207   75.955     2112.0               37.0              33.0            1         2016"
      ]
     },
     "execution_count": 8,
     "metadata": {},
     "output_type": "execute_result"
    }
   ],
   "source": [
    "X_database.head()"
   ]
  },
  {
   "cell_type": "code",
   "execution_count": 9,
   "metadata": {},
   "outputs": [
    {
     "data": {
      "text/plain": [
       "Unnamed: 0               0\n",
       "album_id                 0\n",
       "album_name               2\n",
       "year_released            0\n",
       "album_release_date       0\n",
       "track_artist_ids         0\n",
       "track_id                 0\n",
       "track_duration_ms        0\n",
       "track_explicit           0\n",
       "track_name               2\n",
       "track_popularity         0\n",
       "danceability             3\n",
       "energy                   3\n",
       "key                      3\n",
       "loudness                 3\n",
       "mode                     3\n",
       "speechiness              3\n",
       "acousticness             3\n",
       "instrumentalness         3\n",
       "liveness                 3\n",
       "valence                  3\n",
       "tempo                    3\n",
       "audio_features_id        3\n",
       "artist1_id               1\n",
       "followers                1\n",
       "artist_popularity        1\n",
       "artist_genre1         1901\n",
       "artist_genre2         5110\n",
       "artist_genre3         8139\n",
       "album_label             10\n",
       "album_popularity         3\n",
       "in_playlist              0\n",
       "release_year             0\n",
       "dtype: int64"
      ]
     },
     "execution_count": 9,
     "metadata": {},
     "output_type": "execute_result"
    }
   ],
   "source": [
    "df.isnull().sum()"
   ]
  },
  {
   "cell_type": "code",
   "execution_count": 10,
   "metadata": {},
   "outputs": [
    {
     "data": {
      "text/plain": [
       "Unnamed: 0             4002\n",
       "album_id              11390\n",
       "album_name            10749\n",
       "year_released             4\n",
       "album_release_date     3321\n",
       "track_artist_ids       8618\n",
       "track_id              19167\n",
       "track_duration_ms     13858\n",
       "track_explicit            2\n",
       "track_name            17302\n",
       "track_popularity         93\n",
       "danceability            862\n",
       "energy                 1126\n",
       "key                      12\n",
       "loudness               9394\n",
       "mode                      2\n",
       "speechiness            1278\n",
       "acousticness           3410\n",
       "instrumentalness       4211\n",
       "liveness               1559\n",
       "valence                1326\n",
       "tempo                 14945\n",
       "audio_features_id     19164\n",
       "artist1_id             5933\n",
       "followers             18367\n",
       "artist_popularity        97\n",
       "artist_genre1           593\n",
       "artist_genre2           567\n",
       "artist_genre3           476\n",
       "album_label            3638\n",
       "album_popularity         93\n",
       "in_playlist               2\n",
       "release_year             74\n",
       "dtype: int64"
      ]
     },
     "execution_count": 10,
     "metadata": {},
     "output_type": "execute_result"
    }
   ],
   "source": [
    "df.nunique()"
   ]
  },
  {
   "cell_type": "code",
   "execution_count": 11,
   "metadata": {},
   "outputs": [
    {
     "data": {
      "text/plain": [
       "(32051, 19)"
      ]
     },
     "execution_count": 11,
     "metadata": {},
     "output_type": "execute_result"
    }
   ],
   "source": [
    "X_database=X_database.dropna(axis=0)\n",
    "X_database.shape"
   ]
  },
  {
   "cell_type": "code",
   "execution_count": 12,
   "metadata": {},
   "outputs": [],
   "source": [
    "X_database_main = X_database.copy() \n",
    "\n",
    "# delete binary values which will not be standardized\n",
    "del X_database[\"track_explicit\"]\n",
    "del X_database[\"mode\"]\n",
    "del X_database[\"in_playlist\"]\n",
    "# standardize all quantitative columns\n",
    "from sklearn.preprocessing import StandardScaler\n",
    "\n",
    "scaler = StandardScaler().fit(X_database)\n",
    "X_database_scaled = scaler.transform(X_database)\n",
    "X_database_scaled = pd.DataFrame(X_database_scaled)\n",
    "X_database_scaled.columns = X_database.columns\n",
    "\n",
    "# add back binary columns\n",
    "X_database_scaled[\"track_explicit\"] = X_database_main[\"track_explicit\"]\n",
    "X_database_scaled[\"mode\"] = X_database_main[\"mode\"]\n",
    "X_database_scaled[\"in_playlist\"] = X_database_main[\"in_playlist\"]"
   ]
  },
  {
   "cell_type": "code",
   "execution_count": 13,
   "metadata": {},
   "outputs": [
    {
     "data": {
      "text/html": [
       "<div>\n",
       "<style scoped>\n",
       "    .dataframe tbody tr th:only-of-type {\n",
       "        vertical-align: middle;\n",
       "    }\n",
       "\n",
       "    .dataframe tbody tr th {\n",
       "        vertical-align: top;\n",
       "    }\n",
       "\n",
       "    .dataframe thead th {\n",
       "        text-align: right;\n",
       "    }\n",
       "</style>\n",
       "<table border=\"1\" class=\"dataframe\">\n",
       "  <thead>\n",
       "    <tr style=\"text-align: right;\">\n",
       "      <th></th>\n",
       "      <th>track_duration_ms</th>\n",
       "      <th>track_popularity</th>\n",
       "      <th>danceability</th>\n",
       "      <th>energy</th>\n",
       "      <th>key</th>\n",
       "      <th>loudness</th>\n",
       "      <th>speechiness</th>\n",
       "      <th>acousticness</th>\n",
       "      <th>instrumentalness</th>\n",
       "      <th>liveness</th>\n",
       "      <th>valence</th>\n",
       "      <th>tempo</th>\n",
       "      <th>followers</th>\n",
       "      <th>artist_popularity</th>\n",
       "      <th>album_popularity</th>\n",
       "      <th>release_year</th>\n",
       "      <th>track_explicit</th>\n",
       "      <th>mode</th>\n",
       "      <th>in_playlist</th>\n",
       "    </tr>\n",
       "  </thead>\n",
       "  <tbody>\n",
       "    <tr>\n",
       "      <th>0</th>\n",
       "      <td>-2.381157</td>\n",
       "      <td>-2.358229</td>\n",
       "      <td>0.712777</td>\n",
       "      <td>-2.801331</td>\n",
       "      <td>0.508743</td>\n",
       "      <td>-1.908517</td>\n",
       "      <td>2.055703</td>\n",
       "      <td>2.673083</td>\n",
       "      <td>4.147056</td>\n",
       "      <td>-0.558762</td>\n",
       "      <td>0.972975</td>\n",
       "      <td>-1.670090</td>\n",
       "      <td>-0.555003</td>\n",
       "      <td>-2.566291</td>\n",
       "      <td>-2.596184</td>\n",
       "      <td>0.508457</td>\n",
       "      <td>False</td>\n",
       "      <td>1.0</td>\n",
       "      <td>1</td>\n",
       "    </tr>\n",
       "    <tr>\n",
       "      <th>1</th>\n",
       "      <td>1.133484</td>\n",
       "      <td>-1.909557</td>\n",
       "      <td>-1.781186</td>\n",
       "      <td>-3.000556</td>\n",
       "      <td>1.065624</td>\n",
       "      <td>-6.857963</td>\n",
       "      <td>-0.155880</td>\n",
       "      <td>2.673083</td>\n",
       "      <td>4.205263</td>\n",
       "      <td>-0.408516</td>\n",
       "      <td>-1.402183</td>\n",
       "      <td>2.033079</td>\n",
       "      <td>-0.554974</td>\n",
       "      <td>-2.339242</td>\n",
       "      <td>-1.528684</td>\n",
       "      <td>0.508457</td>\n",
       "      <td>False</td>\n",
       "      <td>0.0</td>\n",
       "      <td>1</td>\n",
       "    </tr>\n",
       "    <tr>\n",
       "      <th>2</th>\n",
       "      <td>-1.585774</td>\n",
       "      <td>1.031731</td>\n",
       "      <td>-0.283571</td>\n",
       "      <td>-2.953848</td>\n",
       "      <td>0.787183</td>\n",
       "      <td>-6.325566</td>\n",
       "      <td>-0.447248</td>\n",
       "      <td>2.673083</td>\n",
       "      <td>3.899677</td>\n",
       "      <td>-0.584429</td>\n",
       "      <td>-0.486758</td>\n",
       "      <td>1.254469</td>\n",
       "      <td>-0.475669</td>\n",
       "      <td>-0.182280</td>\n",
       "      <td>0.555484</td>\n",
       "      <td>-0.633201</td>\n",
       "      <td>False</td>\n",
       "      <td>1.0</td>\n",
       "      <td>1</td>\n",
       "    </tr>\n",
       "    <tr>\n",
       "      <th>3</th>\n",
       "      <td>0.315446</td>\n",
       "      <td>-2.009262</td>\n",
       "      <td>-0.110293</td>\n",
       "      <td>-2.405265</td>\n",
       "      <td>1.065624</td>\n",
       "      <td>-3.916419</td>\n",
       "      <td>-0.212925</td>\n",
       "      <td>2.673083</td>\n",
       "      <td>4.219815</td>\n",
       "      <td>-0.546241</td>\n",
       "      <td>-0.453769</td>\n",
       "      <td>-1.717988</td>\n",
       "      <td>-0.554686</td>\n",
       "      <td>-2.736577</td>\n",
       "      <td>-2.494518</td>\n",
       "      <td>0.420637</td>\n",
       "      <td>False</td>\n",
       "      <td>1.0</td>\n",
       "      <td>1</td>\n",
       "    </tr>\n",
       "    <tr>\n",
       "      <th>4</th>\n",
       "      <td>-2.128138</td>\n",
       "      <td>-1.062068</td>\n",
       "      <td>-0.345456</td>\n",
       "      <td>-3.011518</td>\n",
       "      <td>-0.605017</td>\n",
       "      <td>-6.835130</td>\n",
       "      <td>-0.537642</td>\n",
       "      <td>2.673083</td>\n",
       "      <td>3.797815</td>\n",
       "      <td>-0.533721</td>\n",
       "      <td>-1.158894</td>\n",
       "      <td>-1.607402</td>\n",
       "      <td>-0.554573</td>\n",
       "      <td>-1.544572</td>\n",
       "      <td>-0.918683</td>\n",
       "      <td>0.684096</td>\n",
       "      <td>False</td>\n",
       "      <td>1.0</td>\n",
       "      <td>1</td>\n",
       "    </tr>\n",
       "  </tbody>\n",
       "</table>\n",
       "</div>"
      ],
      "text/plain": [
       "   track_duration_ms  track_popularity  danceability    energy       key  loudness  speechiness  acousticness  instrumentalness  liveness   valence     tempo  followers  artist_popularity  album_popularity  release_year  track_explicit  mode  in_playlist\n",
       "0          -2.381157         -2.358229      0.712777 -2.801331  0.508743 -1.908517     2.055703      2.673083          4.147056 -0.558762  0.972975 -1.670090  -0.555003          -2.566291         -2.596184      0.508457           False   1.0            1\n",
       "1           1.133484         -1.909557     -1.781186 -3.000556  1.065624 -6.857963    -0.155880      2.673083          4.205263 -0.408516 -1.402183  2.033079  -0.554974          -2.339242         -1.528684      0.508457           False   0.0            1\n",
       "2          -1.585774          1.031731     -0.283571 -2.953848  0.787183 -6.325566    -0.447248      2.673083          3.899677 -0.584429 -0.486758  1.254469  -0.475669          -0.182280          0.555484     -0.633201           False   1.0            1\n",
       "3           0.315446         -2.009262     -0.110293 -2.405265  1.065624 -3.916419    -0.212925      2.673083          4.219815 -0.546241 -0.453769 -1.717988  -0.554686          -2.736577         -2.494518      0.420637           False   1.0            1\n",
       "4          -2.128138         -1.062068     -0.345456 -3.011518 -0.605017 -6.835130    -0.537642      2.673083          3.797815 -0.533721 -1.158894 -1.607402  -0.554573          -1.544572         -0.918683      0.684096           False   1.0            1"
      ]
     },
     "execution_count": 13,
     "metadata": {},
     "output_type": "execute_result"
    }
   ],
   "source": [
    "X_database_scaled.head()"
   ]
  },
  {
   "cell_type": "markdown",
   "metadata": {},
   "source": [
    "import seaborn as sns"
   ]
  },
  {
   "cell_type": "code",
   "execution_count": 14,
   "metadata": {},
   "outputs": [],
   "source": [
    "import seaborn as sns"
   ]
  },
  {
   "cell_type": "code",
   "execution_count": 15,
   "metadata": {},
   "outputs": [
    {
     "data": {
      "text/plain": [
       "<matplotlib.axes._subplots.AxesSubplot at 0x1e251290488>"
      ]
     },
     "execution_count": 15,
     "metadata": {},
     "output_type": "execute_result"
    },
    {
     "data": {
      "image/png": "[encoded data removed]",
      "text/plain": [
       "<Figure size 1296x864 with 2 Axes>"
      ]
     },
     "metadata": {
      "needs_background": "light"
     },
     "output_type": "display_data"
    }
   ],
   "source": [
    "plt.subplots(figsize=(18,12))\n",
    "corr=X_database_scaled.corr()\n",
    "sns.heatmap(corr,xticklabels=corr.columns.values,yticklabels=corr.columns.values, linewidths=.5,annot=True)"
   ]
  },
  {
   "cell_type": "code",
   "execution_count": 16,
   "metadata": {},
   "outputs": [],
   "source": [
    "del X_database_scaled['energy']\n",
    "del X_database_scaled['album_popularity']"
   ]
  },
  {
   "cell_type": "code",
   "execution_count": 17,
   "metadata": {},
   "outputs": [],
   "source": [
    "helen_links = ['https://open.spotify.com/track/6OG1S805gIrH5nAQbEOPY3',\n",
    "'https://open.spotify.com/track/0SGkqnVQo9KPytSri1H6cF',\n",
    "'https://open.spotify.com/track/3Bp478Itxv8gxqqEcf8HRL',\n",
    "'https://open.spotify.com/track/7iaw359G2XT14uTfV9feip',\n",
    "'https://open.spotify.com/track/5qmZHOqnuKopAfKv8W61oN',\n",
    "'https://open.spotify.com/track/3lBRNqXjPp2j3JMTCXDTNO',\n",
    "'https://open.spotify.com/track/4uQ7wYsuL0DryknoDc11Hk',\n",
    "'https://open.spotify.com/track/16qYlQ6koFxYVbiJbGHblz',\n",
    "'https://open.spotify.com/track/4y5Cc7AOL8CIdtLWdcuGMg',\n",
    "'https://open.spotify.com/track/7DDRPKLKFIvDbNSQmnz19Y',\n",
    "'https://open.spotify.com/track/6fZersDfjZ7CMyLe0jvixb',\n",
    "'https://open.spotify.com/track/22eADXu8DfOAUEDw4vU8qy',\n",
    "'https://open.spotify.com/track/0lAveUGBd27UoLnhbnSzgG',\n",
    "'https://open.spotify.com/track/0jn2XqaHliEpWd04ZykIHy',\n",
    "'https://open.spotify.com/track/6Z8R6UsFuGXGtiIxiD8ISb',\n",
    "'https://open.spotify.com/track/1XGwjdHXHNu3842f75eg3T',\n",
    "'https://open.spotify.com/track/6EpRaXYhGOB3fj4V2uDkMJ',\n",
    "'https://open.spotify.com/track/2lH6RlA7NA2CcTfyEsONTc',\n",
    "'https://open.spotify.com/track/1SayqEg8HKK2IeIEWjdYxY',\n",
    "'https://open.spotify.com/track/2fQrGHiQOvpL9UgPvtYy6G']\n",
    "\n",
    "dhruv_links = ['https://open.spotify.com/track/5xS9hkTGfxqXyxX6wWWTt4',\n",
    "'https://open.spotify.com/track/56ZDcszhe1eCeghso93fXP',\n",
    "'https://open.spotify.com/track/60geMByGdlcGGMR5R5ZjHE',\n",
    "'https://open.spotify.com/track/4gHSezW5CHZCvjAUjF2pd5',\n",
    "'https://open.spotify.com/track/2eW8aJXH9OSqJuw1UcPEj6',\n",
    "'https://open.spotify.com/track/2IO7yf562c1zLzpanal1DT',\n",
    "'https://open.spotify.com/track/2SJMm1mWgcy3pj2gMfwRiQ',\n",
    "'https://open.spotify.com/track/4Sfa7hdVkqlM8UW5LsSY3F',\n",
    "'https://open.spotify.com/track/4JuZQeSRYJfLCqBgBIxxrR',\n",
    "'https://open.spotify.com/track/5ybydtBlJJL82AprlvN7Lg',\n",
    "'https://open.spotify.com/track/5R0b6aGJH9J6BW4eNUgYDd',\n",
    "'https://open.spotify.com/track/6Yzh272O4hwZHjrnXYhL8a',\n",
    "'https://open.spotify.com/track/1UE2mIj6uy9Tip2cvQx5xu',\n",
    "'https://open.spotify.com/track/79nEEoEPY2w8EXj9hjn5oc',\n",
    "'https://open.spotify.com/track/3JDNTieVelwwVvIIpPqAH3',\n",
    "'https://open.spotify.com/track/26nxjX1zXkT8oVwO9RPUMf',\n",
    "'https://open.spotify.com/track/4qdgv45EPcQqpQ08tF34f8',\n",
    "'https://open.spotify.com/track/2pA4ip3VIEVcIa3qE02oAX',\n",
    "'https://open.spotify.com/track/1KDYN3odJHnj9pqGHN3FVs',\n",
    "'https://open.spotify.com/track/5C4PHNJIGuYYcMDsvKmLSV']\n",
    "\n",
    "isabelle_links = ['https://open.spotify.com/track/0UdWlvyc1Hc97LRX3zAOwC',\n",
    "'https://open.spotify.com/track/7cb98TMQPLbkE86up3uLz6',\n",
    "'https://open.spotify.com/track/00xR9dHhuaNznqB4FSzOlr',\n",
    "'https://open.spotify.com/track/7cjZxxdwK4NLtXyKCTQnNR',\n",
    "'https://open.spotify.com/track/4MimthDKiYVMCqDBJEiw1U',\n",
    "'https://open.spotify.com/track/6IEMLVQMHWuqNX50gGdsYB',\n",
    "'https://open.spotify.com/track/5YzA563GXTuwQaRq24z1k5',\n",
    "'https://open.spotify.com/track/78WVLOP9pN0G3gRLFy1rAa',\n",
    "'https://open.spotify.com/track/4Tjh34RS4ACZ6f6srlDBg8',\n",
    "'https://open.spotify.com/track/24lORMRGMv9sXpZJdN1PVm',\n",
    "'https://open.spotify.com/track/1oh8AROxt4IUEH42CEFRb9',\n",
    "'https://open.spotify.com/track/4SKlwyLMGQdzul5S5TvCh5',\n",
    "'https://open.spotify.com/track/6ngavex4sZrVTif1wwRof0',\n",
    "'https://open.spotify.com/track/6L2Eoo8Dzx60hARXy7TCic',\n",
    "'https://open.spotify.com/track/3a1lNhkSLSkpJE4MSHpDu9',\n",
    "'https://open.spotify.com/track/0aPrTlWUf2nmDkC9gcP5kZ',\n",
    "'https://open.spotify.com/track/0BBOLOV5JntPL3341swIre',\n",
    "'https://open.spotify.com/track/2qFIJT5hjqaNFA1GKwl9me',\n",
    "'https://open.spotify.com/track/7i9HsRBt4punMJWoCoSeu6',\n",
    "'https://open.spotify.com/track/2rqUblDWJKlMVwh9uJc0Vv']\n",
    "\n",
    "helen_ids = [helen_link[31:] for helen_link in helen_links]\n",
    "dhruv_ids = [dhruv_link[31:] for dhruv_link in dhruv_links]\n",
    "isabelle_ids = [isabelle_link[31:] for isabelle_link in isabelle_links]"
   ]
  },
  {
   "cell_type": "code",
   "execution_count": 18,
   "metadata": {},
   "outputs": [],
   "source": [
    "helen_indices = [] # the indices from 'playlists' that correspond to their assigned random tracks\n",
    "for ID in helen_ids:\n",
    "    helen_indices.append(df.track_id[df.track_id == ID].index[0]) \n",
    "    \n",
    "dhruv_indices = []\n",
    "for ID in dhruv_ids:\n",
    "    dhruv_indices.append(df.track_id[df.track_id == ID].index[0])\n",
    "    \n",
    "isabelle_indices = []\n",
    "for ID in isabelle_ids:\n",
    "    isabelle_indices.append(df.track_id[df.track_id == ID].index[0])"
   ]
  },
  {
   "cell_type": "code",
   "execution_count": 19,
   "metadata": {},
   "outputs": [],
   "source": [
    "helen_y = [8, 7.5, 3, 5, 5, 7.5, 7, 6, 9, 6, 4, 4, 5, 6, 8, 4, 6, 6.5, 5, 8.5]"
   ]
  },
  {
   "cell_type": "code",
   "execution_count": 20,
   "metadata": {},
   "outputs": [],
   "source": [
    "indices = np.arange(X_database_scaled.shape[0])\n",
    "random_indices = np.random.choice(indices, size=20, replace=False)\n",
    "helen_X = X_database_scaled.loc[random_indices]"
   ]
  },
  {
   "cell_type": "code",
   "execution_count": 21,
   "metadata": {},
   "outputs": [],
   "source": [
    "simple_LR_model=LinearRegression().fit(helen_X,helen_y)"
   ]
  },
  {
   "cell_type": "code",
   "execution_count": 22,
   "metadata": {},
   "outputs": [
    {
     "name": "stdout",
     "output_type": "stream",
     "text": [
      "('track_duration_ms', -0.272723179471069)\n",
      "('track_popularity', -0.015277255783945674)\n",
      "('danceability', 1.2892479719811913)\n",
      "('key', -0.43094293394169686)\n",
      "('loudness', -0.7359877558415739)\n",
      "('speechiness', 0.06397144395189679)\n",
      "('acousticness', 0.2901773923330291)\n",
      "('instrumentalness', 0.22141782562698417)\n",
      "('liveness', -0.1445452736588273)\n",
      "('valence', 0.33450434872491036)\n",
      "('tempo', -0.29102118139615063)\n",
      "('followers', -0.4265787015007657)\n",
      "('artist_popularity', -0.00464038712652843)\n",
      "('release_year', -0.9503420896388302)\n",
      "('track_explicit', -2.0019463624569855)\n",
      "('mode', -2.005243425965535)\n",
      "('in_playlist', -1.1893193184301922)\n"
     ]
    }
   ],
   "source": [
    "weights=zip(helen_X.columns.values,simple_LR_model.coef_)\n",
    "for weight in weights:\n",
    "    print(weight)"
   ]
  },
  {
   "cell_type": "code",
   "execution_count": 23,
   "metadata": {},
   "outputs": [],
   "source": [
    "X_database_scaled=X_database_scaled.dropna(axis=0)"
   ]
  },
  {
   "cell_type": "code",
   "execution_count": 24,
   "metadata": {},
   "outputs": [
    {
     "data": {
      "text/plain": [
       "(32051, 17)"
      ]
     },
     "execution_count": 24,
     "metadata": {},
     "output_type": "execute_result"
    }
   ],
   "source": [
    "X_database_scaled.shape"
   ]
  },
  {
   "cell_type": "code",
   "execution_count": 25,
   "metadata": {},
   "outputs": [
    {
     "data": {
      "text/plain": [
       "track_duration_ms    13856\n",
       "track_popularity        93\n",
       "danceability           862\n",
       "key                     12\n",
       "loudness              9394\n",
       "speechiness           1278\n",
       "acousticness          3410\n",
       "instrumentalness      4211\n",
       "liveness              1559\n",
       "valence               1326\n",
       "tempo                14945\n",
       "followers            18365\n",
       "artist_popularity       97\n",
       "release_year            74\n",
       "track_explicit           2\n",
       "mode                     2\n",
       "in_playlist              2\n",
       "dtype: int64"
      ]
     },
     "execution_count": 25,
     "metadata": {},
     "output_type": "execute_result"
    }
   ],
   "source": [
    "X_database_scaled.nunique()"
   ]
  },
  {
   "cell_type": "code",
   "execution_count": 26,
   "metadata": {},
   "outputs": [
    {
     "ename": "NameError",
     "evalue": "name 'est_model' is not defined",
     "output_type": "error",
     "traceback": [
      "\u001b[1;31m---------------------------------------------------------------------------\u001b[0m",
      "\u001b[1;31mNameError\u001b[0m                                 Traceback (most recent call last)",
      "\u001b[1;32m<ipython-input-26-97ca9de7e3ae>\u001b[0m in \u001b[0;36m<module>\u001b[1;34m\u001b[0m\n\u001b[1;32m----> 1\u001b[1;33m \u001b[0mpreds_LR\u001b[0m \u001b[1;33m=\u001b[0m \u001b[0mest_model\u001b[0m\u001b[1;33m.\u001b[0m\u001b[0mpredict\u001b[0m\u001b[1;33m(\u001b[0m\u001b[0mX_database_scaled\u001b[0m\u001b[1;33m)\u001b[0m\u001b[1;33m\u001b[0m\u001b[1;33m\u001b[0m\u001b[0m\n\u001b[0m",
      "\u001b[1;31mNameError\u001b[0m: name 'est_model' is not defined"
     ]
    }
   ],
   "source": [
    "preds_LR = est_model.predict(X_database_scaled) "
   ]
  },
  {
   "cell_type": "code",
   "execution_count": 27,
   "metadata": {},
   "outputs": [],
   "source": [
    "x_train1 = X_database_scaled.copy()\n",
    "y_train1 = x_train1[\"in_playlist\"]\n",
    "del x_train1[\"in_playlist\"]\n",
    "xx_train = x_train1.copy()"
   ]
  },
  {
   "cell_type": "code",
   "execution_count": 29,
   "metadata": {},
   "outputs": [],
   "source": [
    "from sklearn.model_selection import train_test_split\n",
    "x_train,x_test,y_train,y_test=train_test_split(x_train1, y_train1, test_size=0.2, random_state=42)"
   ]
  },
  {
   "cell_type": "code",
   "execution_count": 30,
   "metadata": {},
   "outputs": [],
   "source": [
    "from sklearn.linear_model import LogisticRegressionCV\n",
    "est_model_lr=LogisticRegressionCV().fit(x_train,y_train)"
   ]
  },
  {
   "cell_type": "code",
   "execution_count": 31,
   "metadata": {},
   "outputs": [
    {
     "name": "stdout",
     "output_type": "stream",
     "text": [
      "Logisic Regression R^2 Error on Train Set: 0.9558892355694227\n",
      "CV Error on Train Set: [0.95631825 0.95280811 0.95943838 0.9524181  0.95280811 0.95124805\n",
      " 0.95085803 0.95787832 0.96177847 0.95904836]\n",
      "CV Error on Test Set: [0.96417445 0.95475819 0.94227769 0.95163807 0.94539782 0.950078\n",
      " 0.95319813 0.95943838 0.96723869 0.95475819]\n"
     ]
    }
   ],
   "source": [
    "print(\"Logisic Regression R^2 Error on Train Set: {}\".format(est_model_lr.score(x_train,y_train)))\n",
    "print(\"CV Error on Train Set: {}\".format(cross_val_score(est_model_lr, x_train, y_train, cv=10)))\n",
    "print(\"CV Error on Test Set: {}\".format(cross_val_score(est_model_lr, x_test, y_test, cv=10)))"
   ]
  },
  {
   "cell_type": "code",
   "execution_count": 34,
   "metadata": {},
   "outputs": [],
   "source": [
    "preds_nn=est_model_lr.predict(xx_train)"
   ]
  },
  {
   "cell_type": "code",
   "execution_count": 35,
   "metadata": {},
   "outputs": [],
   "source": [
    "database_nn = xx_train.copy()"
   ]
  },
  {
   "cell_type": "code",
   "execution_count": 36,
   "metadata": {},
   "outputs": [],
   "source": [
    "database_nn['predicted_in_playlist']=preds_nn"
   ]
  },
  {
   "cell_type": "code",
   "execution_count": 40,
   "metadata": {},
   "outputs": [],
   "source": [
    "database_nn_sorted=database_nn.sort_values(ascending=False,by=['predicted_in_playlist'])"
   ]
  },
  {
   "cell_type": "code",
   "execution_count": 41,
   "metadata": {},
   "outputs": [
    {
     "name": "stdout",
     "output_type": "stream",
     "text": [
      "https://open.spotify.com/track/0deYxSSsBtn2F4Al1Sj5by\n",
      "https://open.spotify.com/track/3XlzpaHje8MlpaGe8twgr7\n",
      "https://open.spotify.com/track/0tll8bK3dI5vXQSdIf1v8y\n",
      "https://open.spotify.com/track/6xPPsDFKahUGEQlIDUG0ya\n",
      "https://open.spotify.com/track/4JOVxhmBWzEX54TaEJgDOw\n"
     ]
    }
   ],
   "source": [
    "top5_nn = database_nn_sorted[:5]\n",
    "indices=[index for index in top5_nn.index]\n",
    "top_ids = df.loc[indices].track_id.values\n",
    "for track_id in top_ids:\n",
    "    print('https://open.spotify.com/track/{}'.format(track_id))"
   ]
  },
  {
   "cell_type": "code",
   "execution_count": 45,
   "metadata": {},
   "outputs": [],
   "source": [
    "from sklearn.ensemble import RandomForestClassifier\n",
    "est_model_rf=RandomForestClassifier(50, min_samples_split=5, max_depth=20).fit(x_train, y_train)"
   ]
  },
  {
   "cell_type": "code",
   "execution_count": 46,
   "metadata": {},
   "outputs": [
    {
     "name": "stdout",
     "output_type": "stream",
     "text": [
      "Random Forest MSE Error on Train Set: 0.999804992199688\n",
      "CV Error on Train Set: [0.99843994 0.99882995 0.99960998 0.99921997 0.99960998 0.99882995\n",
      " 0.99843994 0.99882995 0.99921997 0.99882995]\n",
      "CV Error on Test Set: [0.99688474 0.99531981 0.99219969 0.99375975 0.99219969 0.99531981\n",
      " 0.98907956 0.99843994 1.         0.99531981]\n"
     ]
    }
   ],
   "source": [
    "print(\"Random Forest MSE Error on Train Set: {}\".format(est_model_rf.score(x_train,y_train)))\n",
    "print(\"CV Error on Train Set: {}\".format(cross_val_score(est_model_rf, x_train, y_train,cv=10)))\n",
    "print(\"CV Error on Test Set: {}\".format(cross_val_score(est_model_rf, x_test, y_test, cv=10)))"
   ]
  },
  {
   "cell_type": "code",
   "execution_count": 48,
   "metadata": {},
   "outputs": [
    {
     "name": "stdout",
     "output_type": "stream",
     "text": [
      "https://open.spotify.com/track/0deYxSSsBtn2F4Al1Sj5by\n",
      "https://open.spotify.com/track/5VIfacsWytkcgr7aTt8Tql\n",
      "https://open.spotify.com/track/3fcZzgjo8dNy0usFBWe0KH\n",
      "https://open.spotify.com/track/1bzZMF41wfpPTy2LgzsVaP\n",
      "https://open.spotify.com/track/3szI9hDVbyOYU0yd77G35n\n"
     ]
    }
   ],
   "source": [
    "preds_nn = est_model_rf.predict(xx_train)\n",
    "database_nn = xx_train.copy()\n",
    "database_nn['predicted_in_playlist'] = preds_nn\n",
    "database_nn_sorted = database_nn.sort_values(ascending=False,by=['predicted_in_playlist'])\n",
    "top5_nn = database_nn_sorted[:5]\n",
    "indices = [index for index in top5_nn.index]\n",
    "top_ids = df.loc[indices].track_id.values\n",
    "for track_id in top_ids:\n",
    "    print('https://open.spotify.com/track/{}'.format(track_id))"
   ]
  },
  {
   "cell_type": "code",
   "execution_count": 51,
   "metadata": {},
   "outputs": [
    {
     "name": "stdout",
     "output_type": "stream",
     "text": [
      "Boosting R^2 Error on Train Set: 0.9732540901874016\n",
      "CV Error on Train Set: [0.96542165 0.96048135 0.96657836 0.97494608 0.9726436  0.97172913\n",
      " 0.97569289 0.96536678 0.95820905 0.97458213]\n",
      "CV Error on Test Set: [0.98014155 0.96228525 0.97859049 0.96709191 0.90074962 0.98000771\n",
      " 0.92513999 0.96848648 0.9923434  0.96201257]\n"
     ]
    }
   ],
   "source": [
    "from sklearn.ensemble import GradientBoostingRegressor\n",
    "\n",
    "est_model_gb = GradientBoostingRegressor(n_estimators=501, max_depth=1, learning_rate=1).fit(x_train,y_train)\n",
    "\n",
    "print(\"Boosting R^2 Error on Train Set: {}\".format(est_model_gb.score(x_train,y_train)))\n",
    "print(\"CV Error on Train Set: {}\".format(cross_val_score(est_model_gb, x_train, y_train,cv=10)))\n",
    "print(\"CV Error on Test Set: {}\".format(cross_val_score(est_model_gb, x_test, y_test, cv=10)))"
   ]
  },
  {
   "cell_type": "code",
   "execution_count": 53,
   "metadata": {},
   "outputs": [
    {
     "name": "stdout",
     "output_type": "stream",
     "text": [
      "https://open.spotify.com/track/5HvtbJxOYLSACcPuhf62wT\n",
      "https://open.spotify.com/track/2uQ4px5SPONsgcUpulywIQ\n",
      "https://open.spotify.com/track/0WUxSxV53u8Iwo51jWU17Q\n",
      "https://open.spotify.com/track/4WBRVaeZjVzRellzGYRqiy\n",
      "https://open.spotify.com/track/7LZgdL0MxiElfaKZbuuE4l\n"
     ]
    }
   ],
   "source": [
    "preds_nn=est_model_gb.predict(xx_train)\n",
    "database_nn=xx_train.copy()\n",
    "database_nn['predicted_in_playlist'] = preds_nn\n",
    "database_nn_sorted = database_nn.sort_values(ascending=False,by=['predicted_in_playlist'])\n",
    "top5_nn = database_nn_sorted[:5]\n",
    "indices = [index for index in top5_nn.index]\n",
    "top_ids = df.loc[indices].track_id.values\n",
    "for track_id in top_ids:\n",
    "    print('https://open.spotify.com/track/{}'.format(track_id))"
   ]
  },
  {
   "cell_type": "code",
   "execution_count": 54,
   "metadata": {},
   "outputs": [
    {
     "name": "stdout",
     "output_type": "stream",
     "text": [
      "KNN MSE Error on Train Set: 0.956396255850234\n",
      "CV Error on Train Set: [0.94734789 0.94461778 0.95631825 0.95280811 0.94539782 0.94773791\n",
      " 0.9450078  0.95046802 0.95358814 0.95436817]\n"
     ]
    }
   ],
   "source": [
    "from sklearn.neighbors import KNeighborsClassifier\n",
    "est_model_knn = KNeighborsClassifier(n_neighbors = 15).fit(x_train,y_train)\n",
    "\n",
    "print(\"KNN MSE Error on Train Set: {}\".format(est_model_knn.score(x_train,y_train)))\n",
    "print(\"CV Error on Train Set: {}\".format(cross_val_score(est_model_knn, x_train, y_train,cv=10)))"
   ]
  },
  {
   "cell_type": "code",
   "execution_count": 55,
   "metadata": {},
   "outputs": [],
   "source": [
    "results = np.zeros((10,10))\n",
    "for i,n in enumerate(range(10,20)):\n",
    "    model = KNeighborsClassifier(n_neighbors = n)\n",
    "    results[i,:] = cross_val_score(model, x_train, y_train, cv=10)\n",
    "\n",
    "results_df = pd.DataFrame(results, index=list(range(1,11)), columns= [\"CV1\",\"CV2\",\"CV3\",\"CV4\",\"CV5\",\"CV6\",\"CV7\",\"CV8\",\"CV9\",\"CV10\"])\n",
    "results_df['meanCV'] = np.mean(results, axis=1)"
   ]
  },
  {
   "cell_type": "code",
   "execution_count": 58,
   "metadata": {},
   "outputs": [
    {
     "data": {
      "text/html": [
       "<div>\n",
       "<style scoped>\n",
       "    .dataframe tbody tr th:only-of-type {\n",
       "        vertical-align: middle;\n",
       "    }\n",
       "\n",
       "    .dataframe tbody tr th {\n",
       "        vertical-align: top;\n",
       "    }\n",
       "\n",
       "    .dataframe thead th {\n",
       "        text-align: right;\n",
       "    }\n",
       "</style>\n",
       "<table border=\"1\" class=\"dataframe\">\n",
       "  <thead>\n",
       "    <tr style=\"text-align: right;\">\n",
       "      <th></th>\n",
       "      <th>CV1</th>\n",
       "      <th>CV2</th>\n",
       "      <th>CV3</th>\n",
       "      <th>CV4</th>\n",
       "      <th>CV5</th>\n",
       "      <th>CV6</th>\n",
       "      <th>CV7</th>\n",
       "      <th>CV8</th>\n",
       "      <th>CV9</th>\n",
       "      <th>CV10</th>\n",
       "      <th>meanCV</th>\n",
       "    </tr>\n",
       "  </thead>\n",
       "  <tbody>\n",
       "    <tr>\n",
       "      <th>10</th>\n",
       "      <td>0.949688</td>\n",
       "      <td>0.945398</td>\n",
       "      <td>0.954758</td>\n",
       "      <td>0.951638</td>\n",
       "      <td>0.947738</td>\n",
       "      <td>0.948518</td>\n",
       "      <td>0.948518</td>\n",
       "      <td>0.947738</td>\n",
       "      <td>0.952028</td>\n",
       "      <td>0.951248</td>\n",
       "      <td>0.949727</td>\n",
       "    </tr>\n",
       "    <tr>\n",
       "      <th>11</th>\n",
       "      <td>0.948908</td>\n",
       "      <td>0.949298</td>\n",
       "      <td>0.956318</td>\n",
       "      <td>0.955148</td>\n",
       "      <td>0.948128</td>\n",
       "      <td>0.950078</td>\n",
       "      <td>0.951248</td>\n",
       "      <td>0.950858</td>\n",
       "      <td>0.954368</td>\n",
       "      <td>0.953978</td>\n",
       "      <td>0.951833</td>\n",
       "    </tr>\n",
       "    <tr>\n",
       "      <th>12</th>\n",
       "      <td>0.944618</td>\n",
       "      <td>0.947738</td>\n",
       "      <td>0.955928</td>\n",
       "      <td>0.951638</td>\n",
       "      <td>0.945008</td>\n",
       "      <td>0.947348</td>\n",
       "      <td>0.947348</td>\n",
       "      <td>0.951248</td>\n",
       "      <td>0.949688</td>\n",
       "      <td>0.952028</td>\n",
       "      <td>0.949259</td>\n",
       "    </tr>\n",
       "    <tr>\n",
       "      <th>13</th>\n",
       "      <td>0.945008</td>\n",
       "      <td>0.948908</td>\n",
       "      <td>0.958268</td>\n",
       "      <td>0.954368</td>\n",
       "      <td>0.948908</td>\n",
       "      <td>0.946568</td>\n",
       "      <td>0.947348</td>\n",
       "      <td>0.953198</td>\n",
       "      <td>0.952418</td>\n",
       "      <td>0.952418</td>\n",
       "      <td>0.950741</td>\n",
       "    </tr>\n",
       "    <tr>\n",
       "      <th>14</th>\n",
       "      <td>0.943838</td>\n",
       "      <td>0.944228</td>\n",
       "      <td>0.953588</td>\n",
       "      <td>0.952418</td>\n",
       "      <td>0.945398</td>\n",
       "      <td>0.945008</td>\n",
       "      <td>0.944228</td>\n",
       "      <td>0.947738</td>\n",
       "      <td>0.950468</td>\n",
       "      <td>0.952028</td>\n",
       "      <td>0.947894</td>\n",
       "    </tr>\n",
       "    <tr>\n",
       "      <th>15</th>\n",
       "      <td>0.947348</td>\n",
       "      <td>0.944618</td>\n",
       "      <td>0.956318</td>\n",
       "      <td>0.952808</td>\n",
       "      <td>0.945398</td>\n",
       "      <td>0.947738</td>\n",
       "      <td>0.945008</td>\n",
       "      <td>0.950468</td>\n",
       "      <td>0.953588</td>\n",
       "      <td>0.954368</td>\n",
       "      <td>0.949766</td>\n",
       "    </tr>\n",
       "    <tr>\n",
       "      <th>16</th>\n",
       "      <td>0.943448</td>\n",
       "      <td>0.943838</td>\n",
       "      <td>0.953198</td>\n",
       "      <td>0.949688</td>\n",
       "      <td>0.944228</td>\n",
       "      <td>0.945008</td>\n",
       "      <td>0.942278</td>\n",
       "      <td>0.949298</td>\n",
       "      <td>0.950858</td>\n",
       "      <td>0.952418</td>\n",
       "      <td>0.947426</td>\n",
       "    </tr>\n",
       "    <tr>\n",
       "      <th>17</th>\n",
       "      <td>0.945788</td>\n",
       "      <td>0.945008</td>\n",
       "      <td>0.953978</td>\n",
       "      <td>0.949688</td>\n",
       "      <td>0.946568</td>\n",
       "      <td>0.947738</td>\n",
       "      <td>0.945788</td>\n",
       "      <td>0.952028</td>\n",
       "      <td>0.952808</td>\n",
       "      <td>0.954758</td>\n",
       "      <td>0.949415</td>\n",
       "    </tr>\n",
       "    <tr>\n",
       "      <th>18</th>\n",
       "      <td>0.943448</td>\n",
       "      <td>0.941888</td>\n",
       "      <td>0.950858</td>\n",
       "      <td>0.949298</td>\n",
       "      <td>0.941888</td>\n",
       "      <td>0.945398</td>\n",
       "      <td>0.942668</td>\n",
       "      <td>0.950858</td>\n",
       "      <td>0.950858</td>\n",
       "      <td>0.952808</td>\n",
       "      <td>0.946997</td>\n",
       "    </tr>\n",
       "    <tr>\n",
       "      <th>19</th>\n",
       "      <td>0.941108</td>\n",
       "      <td>0.944228</td>\n",
       "      <td>0.952418</td>\n",
       "      <td>0.950078</td>\n",
       "      <td>0.943838</td>\n",
       "      <td>0.945788</td>\n",
       "      <td>0.943058</td>\n",
       "      <td>0.951248</td>\n",
       "      <td>0.950468</td>\n",
       "      <td>0.953978</td>\n",
       "      <td>0.947621</td>\n",
       "    </tr>\n",
       "  </tbody>\n",
       "</table>\n",
       "</div>"
      ],
      "text/plain": [
       "         CV1       CV2       CV3       CV4       CV5       CV6       CV7       CV8       CV9      CV10    meanCV\n",
       "10  0.949688  0.945398  0.954758  0.951638  0.947738  0.948518  0.948518  0.947738  0.952028  0.951248  0.949727\n",
       "11  0.948908  0.949298  0.956318  0.955148  0.948128  0.950078  0.951248  0.950858  0.954368  0.953978  0.951833\n",
       "12  0.944618  0.947738  0.955928  0.951638  0.945008  0.947348  0.947348  0.951248  0.949688  0.952028  0.949259\n",
       "13  0.945008  0.948908  0.958268  0.954368  0.948908  0.946568  0.947348  0.953198  0.952418  0.952418  0.950741\n",
       "14  0.943838  0.944228  0.953588  0.952418  0.945398  0.945008  0.944228  0.947738  0.950468  0.952028  0.947894\n",
       "15  0.947348  0.944618  0.956318  0.952808  0.945398  0.947738  0.945008  0.950468  0.953588  0.954368  0.949766\n",
       "16  0.943448  0.943838  0.953198  0.949688  0.944228  0.945008  0.942278  0.949298  0.950858  0.952418  0.947426\n",
       "17  0.945788  0.945008  0.953978  0.949688  0.946568  0.947738  0.945788  0.952028  0.952808  0.954758  0.949415\n",
       "18  0.943448  0.941888  0.950858  0.949298  0.941888  0.945398  0.942668  0.950858  0.950858  0.952808  0.946997\n",
       "19  0.941108  0.944228  0.952418  0.950078  0.943838  0.945788  0.943058  0.951248  0.950468  0.953978  0.947621"
      ]
     },
     "execution_count": 58,
     "metadata": {},
     "output_type": "execute_result"
    }
   ],
   "source": [
    "results_df.index = range(10,20)\n",
    "results_df "
   ]
  },
  {
   "cell_type": "code",
   "execution_count": 60,
   "metadata": {},
   "outputs": [],
   "source": [
    "optimal_knn=KNeighborsClassifier(n_neighbors=11).fit(x_train, y_train)"
   ]
  },
  {
   "cell_type": "code",
   "execution_count": 61,
   "metadata": {},
   "outputs": [
    {
     "name": "stdout",
     "output_type": "stream",
     "text": [
      "TUrned KNN test score: 0.9606474258970359\n",
      "Trivial Test Set Score: 0.08732449297971918\n"
     ]
    }
   ],
   "source": [
    "print(\"TUrned KNN test score:\",optimal_knn.score(x_train, y_train))\n",
    "dumb_prediction = np.ones(len(y_train))\n",
    "print(\"Trivial Test Set Score:\", np.sum(y_train == dumb_prediction)/len(y_train))"
   ]
  },
  {
   "cell_type": "code",
   "execution_count": 63,
   "metadata": {},
   "outputs": [
    {
     "name": "stdout",
     "output_type": "stream",
     "text": [
      "https://open.spotify.com/track/0deYxSSsBtn2F4Al1Sj5by\n",
      "https://open.spotify.com/track/5tavI3CAFocjY9eDmAwEaH\n",
      "https://open.spotify.com/track/50UAUs5jNNc7gWYN2amkCp\n",
      "https://open.spotify.com/track/1zvN4C9aLkyydiQ1ZtlH3Q\n",
      "https://open.spotify.com/track/1zvN4C9aLkyydiQ1ZtlH3Q\n"
     ]
    }
   ],
   "source": [
    "preds_nn = optimal_knn.predict(xx_train)\n",
    "database_nn = xx_train.copy()\n",
    "database_nn['predicted_in_playlist'] = preds_nn\n",
    "database_nn_sorted = database_nn.sort_values(ascending=False,by=['predicted_in_playlist'])\n",
    "top5_nn = database_nn_sorted[:5]\n",
    "indices = [index for index in top5_nn.index]\n",
    "top_ids = df.loc[indices].track_id.values\n",
    "for track_id in top_ids:\n",
    "    print('https://open.spotify.com/track/{}'.format(track_id))"
   ]
  }
 ],
 "metadata": {
  "kernelspec": {
   "display_name": "Python 3",
   "language": "python",
   "name": "python3"
  },
  "language_info": {
   "codemirror_mode": {
    "name": "ipython",
    "version": 3
   },
   "file_extension": ".py",
   "mimetype": "text/x-python",
   "name": "python",
   "nbconvert_exporter": "python",
   "pygments_lexer": "ipython3",
   "version": "3.7.7"
  }
 },
 "nbformat": 4,
 "nbformat_minor": 4
}
